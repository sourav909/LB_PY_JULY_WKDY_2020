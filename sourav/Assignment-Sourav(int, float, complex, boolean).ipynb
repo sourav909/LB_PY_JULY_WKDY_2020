{
 "cells": [
  {
   "cell_type": "code",
   "execution_count": 3,
   "metadata": {},
   "outputs": [
    {
     "name": "stdout",
     "output_type": "stream",
     "text": [
      "140709161773392 <class 'bool'>\n"
     ]
    }
   ],
   "source": [
    "#Declare a boolean value and store it in a variable. \n",
    "#Check the type and print the id of the same.\n",
    "\n",
    "temp = True\n",
    "print(id(temp),type(temp))"
   ]
  },
  {
   "cell_type": "code",
   "execution_count": 11,
   "metadata": {},
   "outputs": [
    {
     "name": "stdout",
     "output_type": "stream",
     "text": [
      "Enter the Number : 0\n",
      "140709161773424 <class 'bool'> False\n",
      "140709161773424 <class 'bool'> False\n"
     ]
    },
    {
     "data": {
      "text/plain": [
       "True"
      ]
     },
     "execution_count": 11,
     "metadata": {},
     "output_type": "execute_result"
    }
   ],
   "source": [
    "#Take one boolean value between 0 - 256.\n",
    "#Assign it to two different variables.\n",
    "\n",
    "num = bool(int(input('Enter the Number : ')))\n",
    "num1= num\n",
    "print(id(num1),type(num1),num1)\n",
    "print(id(num),type(num),num)\n",
    "\n",
    "\n",
    "a = 100\n",
    "b = 100\n",
    "c = 100\n",
    "id(a) == id(b) == id(c)\n",
    "\n",
    "#Check the id of both the variables. It should come same. Check why?\n",
    "#because its pointing to the same memory address. "
   ]
  },
  {
   "cell_type": "code",
   "execution_count": 3,
   "metadata": {},
   "outputs": [
    {
     "name": "stdout",
     "output_type": "stream",
     "text": [
      "Enter First Number : 5\n",
      "Enter Second Number : 2\n",
      "Sum of Both True and True is--> 2\n",
      "Difference of Both True and True is--> 0\n",
      "Product of Both True and True is--> 1\n",
      "dividing of Both True and True is--> 1.0\n",
      "remainder of Both True and True is--> 0\n",
      "quotient of Both True and True is--> 1\n"
     ]
    }
   ],
   "source": [
    "#Arithmatic Operations on boolean data\n",
    "#Take two different boolean values.\n",
    "#Store them in two different variables.\n",
    "\n",
    "num1 = bool(int(input('Enter First Number : ')))  \n",
    "num2 = bool(int(input('Enter Second Number : ')))\n",
    "\n",
    "#Do below operations on them:-\n",
    "#Find sum of both values\n",
    "\n",
    "num3 = num1+ num2\n",
    "print(f'Sum of Both {num1} and {num2} is-->',num3)\n",
    "\n",
    "#Find differce between them\n",
    "num4 = num1 - num2\n",
    "print(f'Difference of Both {num1} and {num2} is-->',num4)  \n",
    "\n",
    "num5 = num1*num2\n",
    "print(f'Product of Both {num1} and {num2} is-->',num5) \n",
    "\n",
    "#Find value after dividing first value with second value\n",
    "num6 = num1/num2\n",
    "print(f'dividing of Both {num1} and {num2} is-->',num6) \n",
    "\n",
    "#Find the remainder\n",
    "num7= num1%num2\n",
    "print(f'remainder of Both {num1} and {num2} is-->',num7) \n",
    "\n",
    "#Find the quotient\n",
    "num8= num1//num2\n",
    "print(f'quotient of Both {num1} and {num2} is-->',num8) \n"
   ]
  },
  {
   "cell_type": "code",
   "execution_count": null,
   "metadata": {},
   "outputs": [],
   "source": []
  },
  {
   "cell_type": "code",
   "execution_count": null,
   "metadata": {},
   "outputs": [],
   "source": []
  },
  {
   "cell_type": "code",
   "execution_count": null,
   "metadata": {},
   "outputs": [],
   "source": []
  }
 ],
 "metadata": {
  "kernelspec": {
   "display_name": "Python 3",
   "language": "python",
   "name": "python3"
  },
  "language_info": {
   "codemirror_mode": {
    "name": "ipython",
    "version": 3
   },
   "file_extension": ".py",
   "mimetype": "text/x-python",
   "name": "python",
   "nbconvert_exporter": "python",
   "pygments_lexer": "ipython3",
   "version": "3.7.6"
  }
 },
 "nbformat": 4,
 "nbformat_minor": 4
}
